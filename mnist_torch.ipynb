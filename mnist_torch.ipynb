{
 "cells": [
  {
   "cell_type": "code",
   "execution_count": 1,
   "metadata": {
    "execution": {
     "iopub.execute_input": "2022-06-29T20:42:09.307671Z",
     "iopub.status.busy": "2022-06-29T20:42:09.307170Z",
     "iopub.status.idle": "2022-06-29T20:42:10.755171Z",
     "shell.execute_reply": "2022-06-29T20:42:10.755171Z"
    }
   },
   "outputs": [],
   "source": [
    "%matplotlib inline"
   ]
  },
  {
   "cell_type": "markdown",
   "metadata": {},
   "source": [
    "<!--<badge>--><a href=\"https://colab.research.google.com/github/softmatterlab/DeepTrack-2.0/blob/develop/examples/tutorials/analyzing_video_tutorial.ipynb\" target=\"_parent\"><img src=\"https://colab.research.google.com/assets/colab-badge.svg\" alt=\"Open In Colab\"/></a><!--</badge>-->"
   ]
  },
  {
   "cell_type": "markdown",
   "metadata": {},
   "source": [
    "# MNIST classification using PyTorch\n",
    "\n",
    "In this tutorial, we will use DeepTrack to classify MNIST digits using a PyTorch model."
   ]
  },
  {
   "cell_type": "markdown",
   "metadata": {},
   "source": [
    "## 1 - Importing DeepTrack\n",
    "\n",
    "First, we import DeepTrack and a few other useful libraries."
   ]
  },
  {
   "cell_type": "code",
   "execution_count": 2,
   "metadata": {},
   "outputs": [
    {
     "name": "stderr",
     "output_type": "stream",
     "text": [
      "C:\\Users\\bmidt\\DeepTrack2\\deeptrack\\backend\\_config.py:11: UserWarning: cupy not installed. GPU-accelerated simulations will not be possible\n",
      "  warnings.warn(\n",
      "C:\\Users\\bmidt\\DeepTrack2\\deeptrack\\backend\\_config.py:25: UserWarning: cupy not installed, CPU acceleration not enabled\n",
      "  warnings.warn(\"cupy not installed, CPU acceleration not enabled\")\n",
      "GPU available: False, used: False\n",
      "TPU available: False, using: 0 TPU cores\n",
      "IPU available: False, using: 0 IPUs\n",
      "HPU available: False, using: 0 HPUs\n"
     ]
    }
   ],
   "source": [
    "import deeptrack as dt\n",
    "import deeptrack.torchmodels as dtm\n",
    "import numpy as np \n",
    "import matplotlib.pyplot as plt"
   ]
  },
  {
   "cell_type": "markdown",
   "metadata": {},
   "source": [
    "## 3 - Loading the MNIST dataset\n",
    "\n",
    "We download and load the MNIST dataset using DeepTrack"
   ]
  },
  {
   "cell_type": "code",
   "execution_count": 3,
   "metadata": {
    "execution": {
     "iopub.execute_input": "2022-06-29T20:42:14.287171Z",
     "iopub.status.busy": "2022-06-29T20:42:14.287171Z",
     "iopub.status.idle": "2022-06-29T20:42:14.289670Z",
     "shell.execute_reply": "2022-06-29T20:42:14.289170Z"
    }
   },
   "outputs": [],
   "source": [
    "mnist_train_dataset = dt.Dataset(\"mnist\", split=\"train[:80%]\")\n",
    "mnist_val_dataset = dt.Dataset(\"mnist\", split=\"train[80%:]\")\n",
    "mnist_test_dataset = dt.Dataset(\"mnist\", split=\"test\")\n",
    "\n",
    "# Create a data pipeline that picks which dataset to use from train, val, or test\n",
    "mnist_image_pipeline = dt.Select(\n",
    "    on_train=mnist_train_dataset.image,\n",
    "    on_val=mnist_val_dataset.image,\n",
    "    on_test=mnist_test_dataset.image,\n",
    ")\n",
    "\n",
    "mnist_gt_pipeline = dt.Select(\n",
    "    on_train=mnist_train_dataset.label,\n",
    "    on_val=mnist_val_dataset.label,\n",
    "    on_test=mnist_test_dataset.label,\n",
    ")"
   ]
  },
  {
   "cell_type": "markdown",
   "metadata": {},
   "source": [
    "## 4 - Preparing the data\n",
    "\n",
    "We prepare the data for training by normalizing the images and converting the labels to one-hot vectors."
   ]
  },
  {
   "cell_type": "code",
   "execution_count": 4,
   "metadata": {},
   "outputs": [],
   "source": [
    "normalization = dt.Divide(255)\n",
    "normalized_image_pipeline = mnist_image_pipeline >> normalization"
   ]
  },
  {
   "cell_type": "code",
   "execution_count": 5,
   "metadata": {},
   "outputs": [],
   "source": [
    "def to_one_hot(x):\n",
    "    return np.eye(10)[x]\n",
    "\n",
    "one_hot_gt_pipeline = mnist_gt_pipeline >> to_one_hot"
   ]
  },
  {
   "cell_type": "code",
   "execution_count": 16,
   "metadata": {},
   "outputs": [],
   "source": [
    "training_pipeline = normalized_image_pipeline & one_hot_gt_pipeline\n",
    "\n",
    "training_pipeline.update()"
   ]
  },
  {
   "cell_type": "markdown",
   "metadata": {},
   "source": [
    "## 5 - Defining the model\n",
    "\n",
    "We create a PyTorch-based image classifier from DeepTrack."
   ]
  },
  {
   "cell_type": "code",
   "execution_count": 6,
   "metadata": {
    "execution": {
     "iopub.execute_input": "2022-06-29T20:42:14.292171Z",
     "iopub.status.busy": "2022-06-29T20:42:14.292171Z",
     "iopub.status.idle": "2022-06-29T20:42:14.294671Z",
     "shell.execute_reply": "2022-06-29T20:42:14.294170Z"
    }
   },
   "outputs": [],
   "source": [
    "model = dtm.ImageClassifier(\n",
    "    input_shape=(1, 28, 28), # torch is channel first\n",
    "    num_classes=10\n",
    ")"
   ]
  },
  {
   "cell_type": "markdown",
   "metadata": {},
   "source": [
    "# 6 - Training the model\n",
    "\n",
    "We train the model using the training data."
   ]
  },
  {
   "cell_type": "code",
   "execution_count": 7,
   "metadata": {},
   "outputs": [],
   "source": [
    "# The data module creates and manages data generators\n",
    "data = dtm.DataModule(\n",
    "    ,\n",
    "    batch_size=32,\n",
    "    training_size=1000,\n",
    "    validation_size=1000,\n",
    "    test_size=1000\n",
    ")"
   ]
  },
  {
   "cell_type": "code",
   "execution_count": 9,
   "metadata": {},
   "outputs": [
    {
     "name": "stderr",
     "output_type": "stream",
     "text": [
      "GPU available: False, used: False\n",
      "TPU available: False, using: 0 TPU cores\n",
      "IPU available: False, using: 0 IPUs\n",
      "HPU available: False, using: 0 HPUs\n"
     ]
    }
   ],
   "source": [
    "# The trainer manages the training loop\n",
    "trainer = dtm.Trainer(\n",
    "    max_epochs=100,\n",
    "    accelerator=\"cpu\",\n",
    "    log_every_n_steps=4,\n",
    ")"
   ]
  },
  {
   "cell_type": "code",
   "execution_count": 10,
   "metadata": {},
   "outputs": [
    {
     "name": "stderr",
     "output_type": "stream",
     "text": [
      "\n",
      "  | Name         | Type             | Params\n",
      "--------------------------------------------------\n",
      "0 | loss         | CrossEntropyLoss | 0     \n",
      "1 | conv_layers  | ModuleList       | 23.3 K\n",
      "2 | dense_layers | ModuleList       | 91.7 K\n",
      "--------------------------------------------------\n",
      "114 K     Trainable params\n",
      "0         Non-trainable params\n",
      "114 K     Total params\n",
      "0.460     Total estimated model params size (MB)\n"
     ]
    },
    {
     "data": {
      "application/vnd.jupyter.widget-view+json": {
       "model_id": "",
       "version_major": 2,
       "version_minor": 0
      },
      "text/plain": [
       "Sanity Checking: 0it [00:00, ?it/s]"
      ]
     },
     "metadata": {},
     "output_type": "display_data"
    },
    {
     "name": "stderr",
     "output_type": "stream",
     "text": [
      "C:\\Users\\bmidt\\AppData\\Local\\Programs\\Python\\Python310\\lib\\site-packages\\pytorch_lightning\\trainer\\connectors\\data_connector.py:224: PossibleUserWarning: The dataloader, val_dataloader 0, does not have many workers which may be a bottleneck. Consider increasing the value of the `num_workers` argument` (try 8 which is the number of cpus on this machine) in the `DataLoader` init to improve performance.\n",
      "  rank_zero_warn(\n",
      "C:\\Users\\bmidt\\AppData\\Local\\Programs\\Python\\Python310\\lib\\site-packages\\pytorch_lightning\\trainer\\connectors\\data_connector.py:224: PossibleUserWarning: The dataloader, train_dataloader, does not have many workers which may be a bottleneck. Consider increasing the value of the `num_workers` argument` (try 8 which is the number of cpus on this machine) in the `DataLoader` init to improve performance.\n",
      "  rank_zero_warn(\n"
     ]
    },
    {
     "data": {
      "application/vnd.jupyter.widget-view+json": {
       "model_id": "ff3009d5a8e844948d0d05820aa74350",
       "version_major": 2,
       "version_minor": 0
      },
      "text/plain": [
       "Training: 0it [00:00, ?it/s]"
      ]
     },
     "metadata": {},
     "output_type": "display_data"
    },
    {
     "data": {
      "application/vnd.jupyter.widget-view+json": {
       "model_id": "",
       "version_major": 2,
       "version_minor": 0
      },
      "text/plain": [
       "Validation: 0it [00:00, ?it/s]"
      ]
     },
     "metadata": {},
     "output_type": "display_data"
    },
    {
     "data": {
      "application/vnd.jupyter.widget-view+json": {
       "model_id": "",
       "version_major": 2,
       "version_minor": 0
      },
      "text/plain": [
       "Validation: 0it [00:00, ?it/s]"
      ]
     },
     "metadata": {},
     "output_type": "display_data"
    },
    {
     "name": "stderr",
     "output_type": "stream",
     "text": [
      "C:\\Users\\bmidt\\AppData\\Local\\Programs\\Python\\Python310\\lib\\site-packages\\pytorch_lightning\\trainer\\call.py:48: UserWarning: Detected KeyboardInterrupt, attempting graceful shutdown...\n",
      "  rank_zero_warn(\"Detected KeyboardInterrupt, attempting graceful shutdown...\")\n"
     ]
    }
   ],
   "source": [
    "trainer.fit(model, data)"
   ]
  },
  {
   "cell_type": "code",
   "execution_count": null,
   "metadata": {},
   "outputs": [],
   "source": [
    "# The trainer can also be used to test the model\n",
    "trainer.test(model, data)"
   ]
  }
 ],
 "metadata": {
  "kernelspec": {
   "display_name": "Python 3 (ipykernel)",
   "language": "python",
   "name": "python3"
  },
  "language_info": {
   "codemirror_mode": {
    "name": "ipython",
    "version": 3
   },
   "file_extension": ".py",
   "mimetype": "text/x-python",
   "name": "python",
   "nbconvert_exporter": "python",
   "pygments_lexer": "ipython3",
   "version": "3.10.7"
  },
  "vscode": {
   "interpreter": {
    "hash": "98807e02e05461ced675697f13eb399e256118642885519e592e05574691980a"
   }
  }
 },
 "nbformat": 4,
 "nbformat_minor": 2
}
